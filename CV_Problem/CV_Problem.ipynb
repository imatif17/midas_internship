{
 "cells": [
  {
   "cell_type": "markdown",
   "metadata": {},
   "source": [
    "<font size=\"5\">Importing the Libraries</font>"
   ]
  },
  {
   "cell_type": "code",
   "execution_count": 2,
   "metadata": {},
   "outputs": [],
   "source": [
    "#Importing the libraries\n",
    "import numpy as np\n",
    "import cv2\n",
    "import pandas as pd\n",
    "import matplotlib.pyplot as plt\n",
    "import keras\n",
    "from keras.layers import Dense,Conv2D,MaxPooling2D,Dropout,Flatten,BatchNormalization\n",
    "from keras.models import Sequential"
   ]
  },
  {
   "cell_type": "markdown",
   "metadata": {},
   "source": [
    "<font size=\"5\">Importing the image dataset and storing it in variable image_list</font>"
   ]
  },
  {
   "cell_type": "code",
   "execution_count": 3,
   "metadata": {},
   "outputs": [],
   "source": [
    "#Loading training datasets\n",
    "import pickle\n",
    "with open('train_image.pkl','rb') as f:\n",
    "    image_list = pickle.load(f)\n",
    "#Storing the imported data in variable image_list\n",
    "f.close()"
   ]
  },
  {
   "cell_type": "markdown",
   "metadata": {},
   "source": [
    "<font size=\"5\">Importing the label dataset and storing it in variable training_label</font>"
   ]
  },
  {
   "cell_type": "code",
   "execution_count": 4,
   "metadata": {},
   "outputs": [],
   "source": [
    "#Loading the training labels\n",
    "with open('train_label.pkl','rb') as x:\n",
    "    training_label = pickle.load(x)\n",
    "#Storing the imported training label in variable training_label\n",
    "x.close()"
   ]
  },
  {
   "cell_type": "markdown",
   "metadata": {},
   "source": [
    "<font size=\"6\">Exploring and Visualising the data</font>"
   ]
  },
  {
   "cell_type": "markdown",
   "metadata": {},
   "source": [
    "<font size=\"5\">Exploring how many images are there and size of each image</font>"
   ]
  },
  {
   "cell_type": "code",
   "execution_count": 5,
   "metadata": {},
   "outputs": [
    {
     "name": "stdout",
     "output_type": "stream",
     "text": [
      "Number of images are : 8000\n",
      "Size of images are : 784\n"
     ]
    }
   ],
   "source": [
    "print(\"Number of images are : \" +str(len(image_list)))\n",
    "print(\"Size of images are : \" +str(len(image_list[1])))\n",
    "\n",
    "#There are 8000 images in training set"
   ]
  },
  {
   "cell_type": "markdown",
   "metadata": {},
   "source": [
    "<font size=\"5\">Reshaping each images from 784 to 28*28 and storing it in variable training_image</font>"
   ]
  },
  {
   "cell_type": "code",
   "execution_count": 6,
   "metadata": {},
   "outputs": [],
   "source": [
    "#Reshaping the images from 784 to 28*28 and storing the reshaped image in variable training_image\n",
    "training_image = []\n",
    "for item in image_list:\n",
    "    training_image.append(np.reshape(item,(28,28)))"
   ]
  },
  {
   "cell_type": "markdown",
   "metadata": {},
   "source": [
    "<font size=\"5\">Exploring label of training data</font>"
   ]
  },
  {
   "cell_type": "code",
   "execution_count": 7,
   "metadata": {},
   "outputs": [
    {
     "name": "stdout",
     "output_type": "stream",
     "text": [
      "Types of labels are : [0 2 3 6]\n",
      "Count of each label is : [2000 2000 2000 2000]\n"
     ]
    }
   ],
   "source": [
    "uniques, counts = np.unique(training_label, return_counts=True)\n",
    "print(\"Types of labels are : \" + str(uniques))\n",
    "print(\"Count of each label is : \" + str(counts))\n",
    "#There are four labels 0,2,3 and 6\n",
    "#Each label have frequency of 2000"
   ]
  },
  {
   "cell_type": "markdown",
   "metadata": {},
   "source": [
    "<font size=\"5\">Visualising each type of images with label</font>"
   ]
  },
  {
   "cell_type": "code",
   "execution_count": 8,
   "metadata": {},
   "outputs": [
    {
     "data": {
      "text/plain": [
       "Text(0.5, 1.0, '6')"
      ]
     },
     "execution_count": 8,
     "metadata": {},
     "output_type": "execute_result"
    },
    {
     "data": {
      "image/png": "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\n",
      "text/plain": [
       "<Figure size 720x1440 with 4 Axes>"
      ]
     },
     "metadata": {
      "needs_background": "light"
     },
     "output_type": "display_data"
    }
   ],
   "source": [
    "#Exploring some of the training data \n",
    "fig,(ax1,ax2,ax3,ax4) = plt.subplots(1,4,figsize = (10,20))\n",
    "ax1.imshow(training_image[0])\n",
    "ax1.set_title(training_label[0])\n",
    "ax2.imshow(training_image[2000])\n",
    "ax2.set_title(training_label[2000])\n",
    "ax3.imshow(training_image[4000])\n",
    "ax3.set_title(training_label[4000])\n",
    "ax4.imshow(training_image[6000])\n",
    "ax4.set_title(training_label[6000])\n",
    "#Label 0 means T-Shirt, 2 means Sweater, 3 means frock, 1 means "
   ]
  },
  {
   "cell_type": "markdown",
   "metadata": {},
   "source": [
    "<font size=\"6\">Preprocessing the training data</font>"
   ]
  },
  {
   "cell_type": "markdown",
   "metadata": {},
   "source": [
    "<font size=\"5\">As the labels are of [0,2,3,6] so changing 6 to 1 and converting training_image from list to numpy array</font>"
   ]
  },
  {
   "cell_type": "code",
   "execution_count": 9,
   "metadata": {},
   "outputs": [],
   "source": [
    "#Changing the label 6 to label 1\n",
    "training_label = np.array(training_label)\n",
    "training_label[training_label == 6] = 1\n",
    "#Convering training image from list to numpy array\n",
    "training_image = np.array(training_image)"
   ]
  },
  {
   "cell_type": "markdown",
   "metadata": {},
   "source": [
    "<font size=\"5\">Reshaping the training_image variable as the Keras module accepts 3-d array</font>"
   ]
  },
  {
   "cell_type": "code",
   "execution_count": 10,
   "metadata": {},
   "outputs": [
    {
     "name": "stdout",
     "output_type": "stream",
     "text": [
      "Initial shape : (8000, 28, 28)\n",
      "After Reshaping : (8000, 28, 28, 1)\n"
     ]
    }
   ],
   "source": [
    "#Printing the shape of training_image\n",
    "print('Initial shape : '+ str(training_image.shape))\n",
    "#Reshaping the training_image numpy array from (8000,28,28) to (8000,28,28,1)\n",
    "training_image = training_image.reshape((8000,28,28,1))\n",
    "print('After Reshaping : ' + str(training_image.shape))"
   ]
  },
  {
   "cell_type": "markdown",
   "metadata": {},
   "source": [
    "<font size=\"5\">Changing the label to categorical as Keras module expects categorical label</font>"
   ]
  },
  {
   "cell_type": "markdown",
   "metadata": {},
   "source": [
    "<font size=\"3\">training_label_categorical -> Training label in categorical form</font>"
   ]
  },
  {
   "cell_type": "code",
   "execution_count": 11,
   "metadata": {},
   "outputs": [],
   "source": [
    "#Changing the label to categorical\n",
    "from keras.utils import to_categorical\n",
    "training_label_categorical = to_categorical(training_label)"
   ]
  },
  {
   "cell_type": "markdown",
   "metadata": {},
   "source": [
    "<font size=\"5\">Standardizing the images for fast processing</font>"
   ]
  },
  {
   "cell_type": "code",
   "execution_count": 12,
   "metadata": {},
   "outputs": [],
   "source": [
    "#Standardizing the images\n",
    "training_image = training_image.astype('float32') /255"
   ]
  },
  {
   "cell_type": "markdown",
   "metadata": {},
   "source": [
    "<font size=\"5\">Splitting the training_images and training_label to X_train, X_val, y_train and y_val</font>"
   ]
  },
  {
   "cell_type": "markdown",
   "metadata": {},
   "source": [
    "<font size=\"3\">X_train  ->   Part of training_image use to train the model, X_val  ->  Part of training_image use to validate the model,  y_train  ->  Part of training_label use to train the model ,   y_val  ->  Part of training_label use to validate the model</font>"
   ]
  },
  {
   "cell_type": "code",
   "execution_count": 13,
   "metadata": {},
   "outputs": [],
   "source": [
    "#Splitting the dataset into training set and validation set\n",
    "#X_train stores training image, X_val stores validation image, y_train stores training label and y_val stores validation label\n",
    "from sklearn.model_selection import train_test_split\n",
    "X_train,X_val,y_train,y_val = train_test_split(training_image,training_label_categorical,test_size = .2, random_state = 101)"
   ]
  },
  {
   "cell_type": "markdown",
   "metadata": {},
   "source": [
    "<font size=\"6\">Creating the model</font>"
   ]
  },
  {
   "cell_type": "markdown",
   "metadata": {},
   "source": [
    "<font size=\"5\">The function build_model creates the structure of the model</font>"
   ]
  },
  {
   "cell_type": "code",
   "execution_count": 14,
   "metadata": {},
   "outputs": [],
   "source": [
    "#Creating the sequential model\n",
    "def build_model(optim = 'adam' ):\n",
    "    '''\n",
    "     The function creates a CNN model and returns it.\n",
    "     It accepts one input parameter optim which means optimizer by default optimizer = adam\n",
    "    '''\n",
    "    #Initializing the model\n",
    "    model = Sequential()\n",
    "\n",
    "    # Conv + Maxpooling\n",
    "    model.add(Conv2D(64, (4, 4), padding='same', activation='relu',input_shape = (28,28,1)))\n",
    "    model.add(MaxPooling2D(pool_size=(2, 2)))\n",
    "\n",
    "    # Dropout\n",
    "    model.add(Dropout(0.1))\n",
    "\n",
    "    # Conv + Maxpooling\n",
    "    model.add(Conv2D(64, (4, 4), activation='relu'))\n",
    "    model.add(MaxPooling2D(pool_size=(2, 2)))\n",
    "\n",
    "    # Dropout\n",
    "    model.add(Dropout(0.3))\n",
    "\n",
    "    # Converting 3D feature to 1D feature Vector\n",
    "    model.add(Flatten())\n",
    "\n",
    "    # Fully Connected Layer\n",
    "    model.add(Dense(256, activation='relu'))\n",
    "\n",
    "    # Dropout\n",
    "    model.add(Dropout(0.5))\n",
    "\n",
    "    # Fully Connected Layer\n",
    "    model.add(Dense(64, activation='relu'))\n",
    "\n",
    "    # Normalization\n",
    "    model.add(BatchNormalization())\n",
    "\n",
    "    #Output Layer\n",
    "    model.add(Dense(4, activation='softmax'))\n",
    "    \n",
    "    #Compiling the model\n",
    "    model.compile(loss='categorical_crossentropy',\n",
    "            optimizer=optim,\n",
    "            metrics=['accuracy'])\n",
    "    return model"
   ]
  },
  {
   "cell_type": "markdown",
   "metadata": {},
   "source": [
    "<font size=\"5\">As the training_image is less so we will use ImageDataGenerator function to preprocess the data</font>"
   ]
  },
  {
   "cell_type": "code",
   "execution_count": 15,
   "metadata": {},
   "outputs": [],
   "source": [
    "#Preprocessing the image in X_train\n",
    "from keras.preprocessing.image import ImageDataGenerator\n",
    "datagen = ImageDataGenerator(\n",
    "    rotation_range=10,\n",
    "    horizontal_flip=True,\n",
    "    fill_mode = 'nearest')\n",
    "datagen.fit(X_train)"
   ]
  },
  {
   "cell_type": "markdown",
   "metadata": {},
   "source": [
    "<font size=\"5\">Fitting the model</font>"
   ]
  },
  {
   "cell_type": "code",
   "execution_count": 16,
   "metadata": {},
   "outputs": [
    {
     "name": "stdout",
     "output_type": "stream",
     "text": [
      "WARNING:tensorflow:From /home/atif/anaconda3/envs/tensorflow/lib/python3.6/site-packages/tensorflow/python/framework/op_def_library.py:263: colocate_with (from tensorflow.python.framework.ops) is deprecated and will be removed in a future version.\n",
      "Instructions for updating:\n",
      "Colocations handled automatically by placer.\n",
      "WARNING:tensorflow:From /home/atif/anaconda3/envs/tensorflow/lib/python3.6/site-packages/keras/backend/tensorflow_backend.py:3445: calling dropout (from tensorflow.python.ops.nn_ops) with keep_prob is deprecated and will be removed in a future version.\n",
      "Instructions for updating:\n",
      "Please use `rate` instead of `keep_prob`. Rate should be set to `rate = 1 - keep_prob`.\n",
      "WARNING:tensorflow:From /home/atif/anaconda3/envs/tensorflow/lib/python3.6/site-packages/tensorflow/python/ops/math_ops.py:3066: to_int32 (from tensorflow.python.ops.math_ops) is deprecated and will be removed in a future version.\n",
      "Instructions for updating:\n",
      "Use tf.cast instead.\n",
      "Epoch 1/30\n",
      "80/80 [==============================] - 18s 222ms/step - loss: 0.9956 - acc: 0.5712 - val_loss: 0.7012 - val_acc: 0.6919\n",
      "Epoch 2/30\n",
      "80/80 [==============================] - 11s 131ms/step - loss: 0.7107 - acc: 0.6941 - val_loss: 0.5995 - val_acc: 0.7500\n",
      "Epoch 3/30\n",
      "80/80 [==============================] - 11s 142ms/step - loss: 0.6222 - acc: 0.7391 - val_loss: 0.5785 - val_acc: 0.7844\n",
      "Epoch 4/30\n",
      "80/80 [==============================] - 11s 135ms/step - loss: 0.5711 - acc: 0.7600 - val_loss: 0.4925 - val_acc: 0.8050\n",
      "Epoch 5/30\n",
      "80/80 [==============================] - 11s 137ms/step - loss: 0.5279 - acc: 0.7903 - val_loss: 0.4662 - val_acc: 0.8325\n",
      "Epoch 6/30\n",
      "80/80 [==============================] - 12s 144ms/step - loss: 0.4954 - acc: 0.8019 - val_loss: 0.4528 - val_acc: 0.8263\n",
      "Epoch 7/30\n",
      "80/80 [==============================] - 11s 133ms/step - loss: 0.4865 - acc: 0.8017 - val_loss: 0.4795 - val_acc: 0.8356\n",
      "Epoch 8/30\n",
      "80/80 [==============================] - 12s 152ms/step - loss: 0.4610 - acc: 0.8133 - val_loss: 0.4422 - val_acc: 0.8375\n",
      "Epoch 9/30\n",
      "80/80 [==============================] - 11s 137ms/step - loss: 0.4526 - acc: 0.8142 - val_loss: 0.4564 - val_acc: 0.8350\n",
      "Epoch 10/30\n",
      "80/80 [==============================] - 13s 159ms/step - loss: 0.4303 - acc: 0.8241 - val_loss: 0.4170 - val_acc: 0.8412\n",
      "Epoch 11/30\n",
      "80/80 [==============================] - 11s 139ms/step - loss: 0.4248 - acc: 0.8278 - val_loss: 0.4247 - val_acc: 0.8463\n",
      "Epoch 12/30\n",
      "80/80 [==============================] - 12s 144ms/step - loss: 0.4133 - acc: 0.8323 - val_loss: 0.3909 - val_acc: 0.8519\n",
      "Epoch 13/30\n",
      "80/80 [==============================] - 11s 138ms/step - loss: 0.4111 - acc: 0.8328 - val_loss: 0.4008 - val_acc: 0.8469\n",
      "Epoch 14/30\n",
      "80/80 [==============================] - 13s 157ms/step - loss: 0.4053 - acc: 0.8358 - val_loss: 0.4320 - val_acc: 0.8338\n",
      "Epoch 15/30\n",
      "80/80 [==============================] - 12s 152ms/step - loss: 0.3900 - acc: 0.8391 - val_loss: 0.4106 - val_acc: 0.8350\n",
      "Epoch 16/30\n",
      "80/80 [==============================] - 13s 163ms/step - loss: 0.3834 - acc: 0.8425 - val_loss: 0.4138 - val_acc: 0.8575\n",
      "Epoch 17/30\n",
      "80/80 [==============================] - 12s 153ms/step - loss: 0.3829 - acc: 0.8467 - val_loss: 0.3853 - val_acc: 0.8637\n",
      "Epoch 18/30\n",
      "80/80 [==============================] - 11s 138ms/step - loss: 0.3711 - acc: 0.8498 - val_loss: 0.3812 - val_acc: 0.8656\n",
      "Epoch 19/30\n",
      "80/80 [==============================] - 12s 153ms/step - loss: 0.3688 - acc: 0.8489 - val_loss: 0.3932 - val_acc: 0.8644\n",
      "Epoch 20/30\n",
      "80/80 [==============================] - 14s 170ms/step - loss: 0.3569 - acc: 0.8592 - val_loss: 0.3927 - val_acc: 0.8606\n",
      "Epoch 21/30\n",
      "80/80 [==============================] - 12s 149ms/step - loss: 0.3566 - acc: 0.8573 - val_loss: 0.3955 - val_acc: 0.8556\n",
      "Epoch 22/30\n",
      "80/80 [==============================] - 11s 134ms/step - loss: 0.3438 - acc: 0.8656 - val_loss: 0.3843 - val_acc: 0.8669\n",
      "Epoch 23/30\n",
      "80/80 [==============================] - 10s 124ms/step - loss: 0.3543 - acc: 0.8573 - val_loss: 0.3965 - val_acc: 0.8569\n",
      "Epoch 24/30\n",
      "80/80 [==============================] - 10s 123ms/step - loss: 0.3412 - acc: 0.8628 - val_loss: 0.3554 - val_acc: 0.8794\n",
      "Epoch 25/30\n",
      "80/80 [==============================] - 10s 129ms/step - loss: 0.3262 - acc: 0.8706 - val_loss: 0.4018 - val_acc: 0.8550\n",
      "Epoch 26/30\n",
      "80/80 [==============================] - 12s 144ms/step - loss: 0.3316 - acc: 0.8695 - val_loss: 0.3649 - val_acc: 0.8694\n",
      "Epoch 27/30\n",
      "80/80 [==============================] - 10s 125ms/step - loss: 0.3231 - acc: 0.8705 - val_loss: 0.3537 - val_acc: 0.8737\n",
      "Epoch 28/30\n",
      "80/80 [==============================] - 10s 126ms/step - loss: 0.3322 - acc: 0.8691 - val_loss: 0.3924 - val_acc: 0.8550\n",
      "Epoch 29/30\n",
      "80/80 [==============================] - 9s 118ms/step - loss: 0.3277 - acc: 0.8742 - val_loss: 0.3532 - val_acc: 0.8725\n",
      "Epoch 30/30\n",
      "80/80 [==============================] - 10s 125ms/step - loss: 0.3158 - acc: 0.8717 - val_loss: 0.3471 - val_acc: 0.8813\n"
     ]
    }
   ],
   "source": [
    "#Fitting the model\n",
    "model = build_model()\n",
    "history = model.fit_generator(datagen.flow(X_train, y_train, batch_size=80),\n",
    "                    steps_per_epoch=80, epochs=30,validation_data=(X_val,y_val))"
   ]
  },
  {
   "cell_type": "markdown",
   "metadata": {},
   "source": [
    "<font size=\"5\">Visualising the training data and validation data result</font>"
   ]
  },
  {
   "cell_type": "code",
   "execution_count": 17,
   "metadata": {},
   "outputs": [
    {
     "data": {
      "text/plain": [
       "<Figure size 432x288 with 0 Axes>"
      ]
     },
     "execution_count": 17,
     "metadata": {},
     "output_type": "execute_result"
    },
    {
     "data": {
      "image/png": "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\n",
      "text/plain": [
       "<Figure size 432x288 with 1 Axes>"
      ]
     },
     "metadata": {
      "needs_background": "light"
     },
     "output_type": "display_data"
    },
    {
     "data": {
      "image/png": "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\n",
      "text/plain": [
       "<Figure size 432x288 with 1 Axes>"
      ]
     },
     "metadata": {
      "needs_background": "light"
     },
     "output_type": "display_data"
    },
    {
     "data": {
      "text/plain": [
       "<Figure size 432x288 with 0 Axes>"
      ]
     },
     "metadata": {},
     "output_type": "display_data"
    }
   ],
   "source": [
    "acc = history.history['acc']\n",
    "val_acc = history.history['val_acc']\n",
    "loss = history.history['loss']\n",
    "val_loss = history.history['val_loss']\n",
    "epochs = range(1,len(acc)+1)\n",
    "\n",
    "plt.plot(epochs,acc,'bo',label = 'Training acc')\n",
    "plt.plot(epochs,val_acc,'b',label = 'Validation acc')\n",
    "plt.title('Training and validation accuracy')\n",
    "plt.legend()\n",
    "\n",
    "plt.figure()\n",
    "\n",
    "plt.plot(epochs,loss,'bo',label = 'Training loss')\n",
    "plt.plot(epochs,val_loss,'b',label = 'Validation loss')\n",
    "plt.title('Training and validation loss')\n",
    "plt.legend()\n",
    "\n",
    "plt.figure()"
   ]
  },
  {
   "cell_type": "markdown",
   "metadata": {},
   "source": [
    "<font size=\"6\">Tuning the parameters</font>"
   ]
  },
  {
   "cell_type": "markdown",
   "metadata": {},
   "source": [
    "<font size=\"5\">Importing the libraries and performing gridsearch</font>"
   ]
  },
  {
   "cell_type": "code",
   "execution_count": 18,
   "metadata": {},
   "outputs": [],
   "source": [
    "#Importing libraries\n",
    "from keras.wrappers.scikit_learn import KerasClassifier\n",
    "from sklearn.model_selection import GridSearchCV\n",
    "#Creating model\n",
    "model = KerasClassifier(build_fn = build_model)\n",
    "#Creating tunining parameters\n",
    "parameters = {'batch_size': [80,100],\n",
    "              'epochs': [30,25,20],\n",
    "              'optim': ['adam','rmsprop']}\n",
    "grid_search = GridSearchCV(estimator = model,\n",
    "                           param_grid = parameters,\n",
    "                           scoring = 'accuracy',\n",
    "                           cv = 5)"
   ]
  },
  {
   "cell_type": "markdown",
   "metadata": {},
   "source": [
    "<font size=\"5\">Shuffling the training datasets</font>"
   ]
  },
  {
   "cell_type": "markdown",
   "metadata": {},
   "source": [
    "<font size=\"3\">training_set_shuffled  ->  Shuffled training_image ,  training_label_categorical_shuffled->  Shuffled training_label_categorical ,  training_label_shuffled  ->  Shuffled training_label</font>"
   ]
  },
  {
   "cell_type": "markdown",
   "metadata": {},
   "source": [
    "<font size=\"5\">We created training_label_shuffed because gridsearch expects data to be non-categorical</font>"
   ]
  },
  {
   "cell_type": "code",
   "execution_count": 20,
   "metadata": {},
   "outputs": [],
   "source": [
    "#Shuffling the training datasets\n",
    "from sklearn.utils import shuffle\n",
    "training_set_shuffled,training_label_categorical_shuffled,training_label = shuffle(training_image,training_label_categorical,training_label,random_state = 101)\n",
    "training_label_shuffled = np.array(training_label_categorical_shuffled)\n",
    "datagen.fit(training_set_shuffled)"
   ]
  },
  {
   "cell_type": "markdown",
   "metadata": {},
   "source": [
    "<font size=\"5\">Fitting Grid Search</font>"
   ]
  },
  {
   "cell_type": "code",
   "execution_count": 21,
   "metadata": {},
   "outputs": [
    {
     "name": "stdout",
     "output_type": "stream",
     "text": [
      "Epoch 1/30\n",
      "3440/6400 [===============>..............] - ETA: 5s - loss: 1.6489 - acc: 0.2628"
     ]
    },
    {
     "ename": "KeyboardInterrupt",
     "evalue": "",
     "output_type": "error",
     "traceback": [
      "\u001b[0;31m---------------------------------------------------------------------------\u001b[0m",
      "\u001b[0;31mKeyboardInterrupt\u001b[0m                         Traceback (most recent call last)",
      "\u001b[0;32m<ipython-input-21-15e4d5b374a9>\u001b[0m in \u001b[0;36m<module>\u001b[0;34m\u001b[0m\n\u001b[1;32m      1\u001b[0m \u001b[0;31m#Doing GridSearch to find the best parameters\u001b[0m\u001b[0;34m\u001b[0m\u001b[0;34m\u001b[0m\u001b[0;34m\u001b[0m\u001b[0m\n\u001b[0;32m----> 2\u001b[0;31m \u001b[0mgrid_search\u001b[0m \u001b[0;34m=\u001b[0m \u001b[0mgrid_search\u001b[0m\u001b[0;34m.\u001b[0m\u001b[0mfit\u001b[0m\u001b[0;34m(\u001b[0m\u001b[0mtraining_set_shuffled\u001b[0m\u001b[0;34m,\u001b[0m\u001b[0mtraining_label\u001b[0m\u001b[0;34m)\u001b[0m\u001b[0;34m\u001b[0m\u001b[0;34m\u001b[0m\u001b[0m\n\u001b[0m\u001b[1;32m      3\u001b[0m \u001b[0mbest_parameters\u001b[0m \u001b[0;34m=\u001b[0m \u001b[0mgrid_search\u001b[0m\u001b[0;34m.\u001b[0m\u001b[0mbest_params_\u001b[0m\u001b[0;34m\u001b[0m\u001b[0;34m\u001b[0m\u001b[0m\n\u001b[1;32m      4\u001b[0m \u001b[0mbest_accuracy\u001b[0m \u001b[0;34m=\u001b[0m \u001b[0mgrid_search\u001b[0m\u001b[0;34m.\u001b[0m\u001b[0mbest_score_\u001b[0m\u001b[0;34m\u001b[0m\u001b[0;34m\u001b[0m\u001b[0m\n",
      "\u001b[0;32m~/anaconda3/envs/tensorflow/lib/python3.6/site-packages/sklearn/model_selection/_search.py\u001b[0m in \u001b[0;36mfit\u001b[0;34m(self, X, y, groups, **fit_params)\u001b[0m\n\u001b[1;32m    720\u001b[0m                 \u001b[0;32mreturn\u001b[0m \u001b[0mresults_container\u001b[0m\u001b[0;34m[\u001b[0m\u001b[0;36m0\u001b[0m\u001b[0;34m]\u001b[0m\u001b[0;34m\u001b[0m\u001b[0;34m\u001b[0m\u001b[0m\n\u001b[1;32m    721\u001b[0m \u001b[0;34m\u001b[0m\u001b[0m\n\u001b[0;32m--> 722\u001b[0;31m             \u001b[0mself\u001b[0m\u001b[0;34m.\u001b[0m\u001b[0m_run_search\u001b[0m\u001b[0;34m(\u001b[0m\u001b[0mevaluate_candidates\u001b[0m\u001b[0;34m)\u001b[0m\u001b[0;34m\u001b[0m\u001b[0;34m\u001b[0m\u001b[0m\n\u001b[0m\u001b[1;32m    723\u001b[0m \u001b[0;34m\u001b[0m\u001b[0m\n\u001b[1;32m    724\u001b[0m         \u001b[0mresults\u001b[0m \u001b[0;34m=\u001b[0m \u001b[0mresults_container\u001b[0m\u001b[0;34m[\u001b[0m\u001b[0;36m0\u001b[0m\u001b[0;34m]\u001b[0m\u001b[0;34m\u001b[0m\u001b[0;34m\u001b[0m\u001b[0m\n",
      "\u001b[0;32m~/anaconda3/envs/tensorflow/lib/python3.6/site-packages/sklearn/model_selection/_search.py\u001b[0m in \u001b[0;36m_run_search\u001b[0;34m(self, evaluate_candidates)\u001b[0m\n\u001b[1;32m   1189\u001b[0m     \u001b[0;32mdef\u001b[0m \u001b[0m_run_search\u001b[0m\u001b[0;34m(\u001b[0m\u001b[0mself\u001b[0m\u001b[0;34m,\u001b[0m \u001b[0mevaluate_candidates\u001b[0m\u001b[0;34m)\u001b[0m\u001b[0;34m:\u001b[0m\u001b[0;34m\u001b[0m\u001b[0;34m\u001b[0m\u001b[0m\n\u001b[1;32m   1190\u001b[0m         \u001b[0;34m\"\"\"Search all candidates in param_grid\"\"\"\u001b[0m\u001b[0;34m\u001b[0m\u001b[0;34m\u001b[0m\u001b[0m\n\u001b[0;32m-> 1191\u001b[0;31m         \u001b[0mevaluate_candidates\u001b[0m\u001b[0;34m(\u001b[0m\u001b[0mParameterGrid\u001b[0m\u001b[0;34m(\u001b[0m\u001b[0mself\u001b[0m\u001b[0;34m.\u001b[0m\u001b[0mparam_grid\u001b[0m\u001b[0;34m)\u001b[0m\u001b[0;34m)\u001b[0m\u001b[0;34m\u001b[0m\u001b[0;34m\u001b[0m\u001b[0m\n\u001b[0m\u001b[1;32m   1192\u001b[0m \u001b[0;34m\u001b[0m\u001b[0m\n\u001b[1;32m   1193\u001b[0m \u001b[0;34m\u001b[0m\u001b[0m\n",
      "\u001b[0;32m~/anaconda3/envs/tensorflow/lib/python3.6/site-packages/sklearn/model_selection/_search.py\u001b[0m in \u001b[0;36mevaluate_candidates\u001b[0;34m(candidate_params)\u001b[0m\n\u001b[1;32m    709\u001b[0m                                \u001b[0;32mfor\u001b[0m \u001b[0mparameters\u001b[0m\u001b[0;34m,\u001b[0m \u001b[0;34m(\u001b[0m\u001b[0mtrain\u001b[0m\u001b[0;34m,\u001b[0m \u001b[0mtest\u001b[0m\u001b[0;34m)\u001b[0m\u001b[0;34m\u001b[0m\u001b[0;34m\u001b[0m\u001b[0m\n\u001b[1;32m    710\u001b[0m                                in product(candidate_params,\n\u001b[0;32m--> 711\u001b[0;31m                                           cv.split(X, y, groups)))\n\u001b[0m\u001b[1;32m    712\u001b[0m \u001b[0;34m\u001b[0m\u001b[0m\n\u001b[1;32m    713\u001b[0m                 \u001b[0mall_candidate_params\u001b[0m\u001b[0;34m.\u001b[0m\u001b[0mextend\u001b[0m\u001b[0;34m(\u001b[0m\u001b[0mcandidate_params\u001b[0m\u001b[0;34m)\u001b[0m\u001b[0;34m\u001b[0m\u001b[0;34m\u001b[0m\u001b[0m\n",
      "\u001b[0;32m~/anaconda3/envs/tensorflow/lib/python3.6/site-packages/sklearn/externals/joblib/parallel.py\u001b[0m in \u001b[0;36m__call__\u001b[0;34m(self, iterable)\u001b[0m\n\u001b[1;32m    915\u001b[0m             \u001b[0;31m# remaining jobs.\u001b[0m\u001b[0;34m\u001b[0m\u001b[0;34m\u001b[0m\u001b[0;34m\u001b[0m\u001b[0m\n\u001b[1;32m    916\u001b[0m             \u001b[0mself\u001b[0m\u001b[0;34m.\u001b[0m\u001b[0m_iterating\u001b[0m \u001b[0;34m=\u001b[0m \u001b[0;32mFalse\u001b[0m\u001b[0;34m\u001b[0m\u001b[0;34m\u001b[0m\u001b[0m\n\u001b[0;32m--> 917\u001b[0;31m             \u001b[0;32mif\u001b[0m \u001b[0mself\u001b[0m\u001b[0;34m.\u001b[0m\u001b[0mdispatch_one_batch\u001b[0m\u001b[0;34m(\u001b[0m\u001b[0miterator\u001b[0m\u001b[0;34m)\u001b[0m\u001b[0;34m:\u001b[0m\u001b[0;34m\u001b[0m\u001b[0;34m\u001b[0m\u001b[0m\n\u001b[0m\u001b[1;32m    918\u001b[0m                 \u001b[0mself\u001b[0m\u001b[0;34m.\u001b[0m\u001b[0m_iterating\u001b[0m \u001b[0;34m=\u001b[0m \u001b[0mself\u001b[0m\u001b[0;34m.\u001b[0m\u001b[0m_original_iterator\u001b[0m \u001b[0;32mis\u001b[0m \u001b[0;32mnot\u001b[0m \u001b[0;32mNone\u001b[0m\u001b[0;34m\u001b[0m\u001b[0;34m\u001b[0m\u001b[0m\n\u001b[1;32m    919\u001b[0m \u001b[0;34m\u001b[0m\u001b[0m\n",
      "\u001b[0;32m~/anaconda3/envs/tensorflow/lib/python3.6/site-packages/sklearn/externals/joblib/parallel.py\u001b[0m in \u001b[0;36mdispatch_one_batch\u001b[0;34m(self, iterator)\u001b[0m\n\u001b[1;32m    757\u001b[0m                 \u001b[0;32mreturn\u001b[0m \u001b[0;32mFalse\u001b[0m\u001b[0;34m\u001b[0m\u001b[0;34m\u001b[0m\u001b[0m\n\u001b[1;32m    758\u001b[0m             \u001b[0;32melse\u001b[0m\u001b[0;34m:\u001b[0m\u001b[0;34m\u001b[0m\u001b[0;34m\u001b[0m\u001b[0m\n\u001b[0;32m--> 759\u001b[0;31m                 \u001b[0mself\u001b[0m\u001b[0;34m.\u001b[0m\u001b[0m_dispatch\u001b[0m\u001b[0;34m(\u001b[0m\u001b[0mtasks\u001b[0m\u001b[0;34m)\u001b[0m\u001b[0;34m\u001b[0m\u001b[0;34m\u001b[0m\u001b[0m\n\u001b[0m\u001b[1;32m    760\u001b[0m                 \u001b[0;32mreturn\u001b[0m \u001b[0;32mTrue\u001b[0m\u001b[0;34m\u001b[0m\u001b[0;34m\u001b[0m\u001b[0m\n\u001b[1;32m    761\u001b[0m \u001b[0;34m\u001b[0m\u001b[0m\n",
      "\u001b[0;32m~/anaconda3/envs/tensorflow/lib/python3.6/site-packages/sklearn/externals/joblib/parallel.py\u001b[0m in \u001b[0;36m_dispatch\u001b[0;34m(self, batch)\u001b[0m\n\u001b[1;32m    714\u001b[0m         \u001b[0;32mwith\u001b[0m \u001b[0mself\u001b[0m\u001b[0;34m.\u001b[0m\u001b[0m_lock\u001b[0m\u001b[0;34m:\u001b[0m\u001b[0;34m\u001b[0m\u001b[0;34m\u001b[0m\u001b[0m\n\u001b[1;32m    715\u001b[0m             \u001b[0mjob_idx\u001b[0m \u001b[0;34m=\u001b[0m \u001b[0mlen\u001b[0m\u001b[0;34m(\u001b[0m\u001b[0mself\u001b[0m\u001b[0;34m.\u001b[0m\u001b[0m_jobs\u001b[0m\u001b[0;34m)\u001b[0m\u001b[0;34m\u001b[0m\u001b[0;34m\u001b[0m\u001b[0m\n\u001b[0;32m--> 716\u001b[0;31m             \u001b[0mjob\u001b[0m \u001b[0;34m=\u001b[0m \u001b[0mself\u001b[0m\u001b[0;34m.\u001b[0m\u001b[0m_backend\u001b[0m\u001b[0;34m.\u001b[0m\u001b[0mapply_async\u001b[0m\u001b[0;34m(\u001b[0m\u001b[0mbatch\u001b[0m\u001b[0;34m,\u001b[0m \u001b[0mcallback\u001b[0m\u001b[0;34m=\u001b[0m\u001b[0mcb\u001b[0m\u001b[0;34m)\u001b[0m\u001b[0;34m\u001b[0m\u001b[0;34m\u001b[0m\u001b[0m\n\u001b[0m\u001b[1;32m    717\u001b[0m             \u001b[0;31m# A job can complete so quickly than its callback is\u001b[0m\u001b[0;34m\u001b[0m\u001b[0;34m\u001b[0m\u001b[0;34m\u001b[0m\u001b[0m\n\u001b[1;32m    718\u001b[0m             \u001b[0;31m# called before we get here, causing self._jobs to\u001b[0m\u001b[0;34m\u001b[0m\u001b[0;34m\u001b[0m\u001b[0;34m\u001b[0m\u001b[0m\n",
      "\u001b[0;32m~/anaconda3/envs/tensorflow/lib/python3.6/site-packages/sklearn/externals/joblib/_parallel_backends.py\u001b[0m in \u001b[0;36mapply_async\u001b[0;34m(self, func, callback)\u001b[0m\n\u001b[1;32m    180\u001b[0m     \u001b[0;32mdef\u001b[0m \u001b[0mapply_async\u001b[0m\u001b[0;34m(\u001b[0m\u001b[0mself\u001b[0m\u001b[0;34m,\u001b[0m \u001b[0mfunc\u001b[0m\u001b[0;34m,\u001b[0m \u001b[0mcallback\u001b[0m\u001b[0;34m=\u001b[0m\u001b[0;32mNone\u001b[0m\u001b[0;34m)\u001b[0m\u001b[0;34m:\u001b[0m\u001b[0;34m\u001b[0m\u001b[0;34m\u001b[0m\u001b[0m\n\u001b[1;32m    181\u001b[0m         \u001b[0;34m\"\"\"Schedule a func to be run\"\"\"\u001b[0m\u001b[0;34m\u001b[0m\u001b[0;34m\u001b[0m\u001b[0m\n\u001b[0;32m--> 182\u001b[0;31m         \u001b[0mresult\u001b[0m \u001b[0;34m=\u001b[0m \u001b[0mImmediateResult\u001b[0m\u001b[0;34m(\u001b[0m\u001b[0mfunc\u001b[0m\u001b[0;34m)\u001b[0m\u001b[0;34m\u001b[0m\u001b[0;34m\u001b[0m\u001b[0m\n\u001b[0m\u001b[1;32m    183\u001b[0m         \u001b[0;32mif\u001b[0m \u001b[0mcallback\u001b[0m\u001b[0;34m:\u001b[0m\u001b[0;34m\u001b[0m\u001b[0;34m\u001b[0m\u001b[0m\n\u001b[1;32m    184\u001b[0m             \u001b[0mcallback\u001b[0m\u001b[0;34m(\u001b[0m\u001b[0mresult\u001b[0m\u001b[0;34m)\u001b[0m\u001b[0;34m\u001b[0m\u001b[0;34m\u001b[0m\u001b[0m\n",
      "\u001b[0;32m~/anaconda3/envs/tensorflow/lib/python3.6/site-packages/sklearn/externals/joblib/_parallel_backends.py\u001b[0m in \u001b[0;36m__init__\u001b[0;34m(self, batch)\u001b[0m\n\u001b[1;32m    547\u001b[0m         \u001b[0;31m# Don't delay the application, to avoid keeping the input\u001b[0m\u001b[0;34m\u001b[0m\u001b[0;34m\u001b[0m\u001b[0;34m\u001b[0m\u001b[0m\n\u001b[1;32m    548\u001b[0m         \u001b[0;31m# arguments in memory\u001b[0m\u001b[0;34m\u001b[0m\u001b[0;34m\u001b[0m\u001b[0;34m\u001b[0m\u001b[0m\n\u001b[0;32m--> 549\u001b[0;31m         \u001b[0mself\u001b[0m\u001b[0;34m.\u001b[0m\u001b[0mresults\u001b[0m \u001b[0;34m=\u001b[0m \u001b[0mbatch\u001b[0m\u001b[0;34m(\u001b[0m\u001b[0;34m)\u001b[0m\u001b[0;34m\u001b[0m\u001b[0;34m\u001b[0m\u001b[0m\n\u001b[0m\u001b[1;32m    550\u001b[0m \u001b[0;34m\u001b[0m\u001b[0m\n\u001b[1;32m    551\u001b[0m     \u001b[0;32mdef\u001b[0m \u001b[0mget\u001b[0m\u001b[0;34m(\u001b[0m\u001b[0mself\u001b[0m\u001b[0;34m)\u001b[0m\u001b[0;34m:\u001b[0m\u001b[0;34m\u001b[0m\u001b[0;34m\u001b[0m\u001b[0m\n",
      "\u001b[0;32m~/anaconda3/envs/tensorflow/lib/python3.6/site-packages/sklearn/externals/joblib/parallel.py\u001b[0m in \u001b[0;36m__call__\u001b[0;34m(self)\u001b[0m\n\u001b[1;32m    223\u001b[0m         \u001b[0;32mwith\u001b[0m \u001b[0mparallel_backend\u001b[0m\u001b[0;34m(\u001b[0m\u001b[0mself\u001b[0m\u001b[0;34m.\u001b[0m\u001b[0m_backend\u001b[0m\u001b[0;34m,\u001b[0m \u001b[0mn_jobs\u001b[0m\u001b[0;34m=\u001b[0m\u001b[0mself\u001b[0m\u001b[0;34m.\u001b[0m\u001b[0m_n_jobs\u001b[0m\u001b[0;34m)\u001b[0m\u001b[0;34m:\u001b[0m\u001b[0;34m\u001b[0m\u001b[0;34m\u001b[0m\u001b[0m\n\u001b[1;32m    224\u001b[0m             return [func(*args, **kwargs)\n\u001b[0;32m--> 225\u001b[0;31m                     for func, args, kwargs in self.items]\n\u001b[0m\u001b[1;32m    226\u001b[0m \u001b[0;34m\u001b[0m\u001b[0m\n\u001b[1;32m    227\u001b[0m     \u001b[0;32mdef\u001b[0m \u001b[0m__len__\u001b[0m\u001b[0;34m(\u001b[0m\u001b[0mself\u001b[0m\u001b[0;34m)\u001b[0m\u001b[0;34m:\u001b[0m\u001b[0;34m\u001b[0m\u001b[0;34m\u001b[0m\u001b[0m\n",
      "\u001b[0;32m~/anaconda3/envs/tensorflow/lib/python3.6/site-packages/sklearn/externals/joblib/parallel.py\u001b[0m in \u001b[0;36m<listcomp>\u001b[0;34m(.0)\u001b[0m\n\u001b[1;32m    223\u001b[0m         \u001b[0;32mwith\u001b[0m \u001b[0mparallel_backend\u001b[0m\u001b[0;34m(\u001b[0m\u001b[0mself\u001b[0m\u001b[0;34m.\u001b[0m\u001b[0m_backend\u001b[0m\u001b[0;34m,\u001b[0m \u001b[0mn_jobs\u001b[0m\u001b[0;34m=\u001b[0m\u001b[0mself\u001b[0m\u001b[0;34m.\u001b[0m\u001b[0m_n_jobs\u001b[0m\u001b[0;34m)\u001b[0m\u001b[0;34m:\u001b[0m\u001b[0;34m\u001b[0m\u001b[0;34m\u001b[0m\u001b[0m\n\u001b[1;32m    224\u001b[0m             return [func(*args, **kwargs)\n\u001b[0;32m--> 225\u001b[0;31m                     for func, args, kwargs in self.items]\n\u001b[0m\u001b[1;32m    226\u001b[0m \u001b[0;34m\u001b[0m\u001b[0m\n\u001b[1;32m    227\u001b[0m     \u001b[0;32mdef\u001b[0m \u001b[0m__len__\u001b[0m\u001b[0;34m(\u001b[0m\u001b[0mself\u001b[0m\u001b[0;34m)\u001b[0m\u001b[0;34m:\u001b[0m\u001b[0;34m\u001b[0m\u001b[0;34m\u001b[0m\u001b[0m\n",
      "\u001b[0;32m~/anaconda3/envs/tensorflow/lib/python3.6/site-packages/sklearn/model_selection/_validation.py\u001b[0m in \u001b[0;36m_fit_and_score\u001b[0;34m(estimator, X, y, scorer, train, test, verbose, parameters, fit_params, return_train_score, return_parameters, return_n_test_samples, return_times, return_estimator, error_score)\u001b[0m\n\u001b[1;32m    526\u001b[0m             \u001b[0mestimator\u001b[0m\u001b[0;34m.\u001b[0m\u001b[0mfit\u001b[0m\u001b[0;34m(\u001b[0m\u001b[0mX_train\u001b[0m\u001b[0;34m,\u001b[0m \u001b[0;34m**\u001b[0m\u001b[0mfit_params\u001b[0m\u001b[0;34m)\u001b[0m\u001b[0;34m\u001b[0m\u001b[0;34m\u001b[0m\u001b[0m\n\u001b[1;32m    527\u001b[0m         \u001b[0;32melse\u001b[0m\u001b[0;34m:\u001b[0m\u001b[0;34m\u001b[0m\u001b[0;34m\u001b[0m\u001b[0m\n\u001b[0;32m--> 528\u001b[0;31m             \u001b[0mestimator\u001b[0m\u001b[0;34m.\u001b[0m\u001b[0mfit\u001b[0m\u001b[0;34m(\u001b[0m\u001b[0mX_train\u001b[0m\u001b[0;34m,\u001b[0m \u001b[0my_train\u001b[0m\u001b[0;34m,\u001b[0m \u001b[0;34m**\u001b[0m\u001b[0mfit_params\u001b[0m\u001b[0;34m)\u001b[0m\u001b[0;34m\u001b[0m\u001b[0;34m\u001b[0m\u001b[0m\n\u001b[0m\u001b[1;32m    529\u001b[0m \u001b[0;34m\u001b[0m\u001b[0m\n\u001b[1;32m    530\u001b[0m     \u001b[0;32mexcept\u001b[0m \u001b[0mException\u001b[0m \u001b[0;32mas\u001b[0m \u001b[0me\u001b[0m\u001b[0;34m:\u001b[0m\u001b[0;34m\u001b[0m\u001b[0;34m\u001b[0m\u001b[0m\n",
      "\u001b[0;32m~/anaconda3/envs/tensorflow/lib/python3.6/site-packages/keras/wrappers/scikit_learn.py\u001b[0m in \u001b[0;36mfit\u001b[0;34m(self, x, y, sample_weight, **kwargs)\u001b[0m\n\u001b[1;32m    208\u001b[0m         \u001b[0;32mif\u001b[0m \u001b[0msample_weight\u001b[0m \u001b[0;32mis\u001b[0m \u001b[0;32mnot\u001b[0m \u001b[0;32mNone\u001b[0m\u001b[0;34m:\u001b[0m\u001b[0;34m\u001b[0m\u001b[0;34m\u001b[0m\u001b[0m\n\u001b[1;32m    209\u001b[0m             \u001b[0mkwargs\u001b[0m\u001b[0;34m[\u001b[0m\u001b[0;34m'sample_weight'\u001b[0m\u001b[0;34m]\u001b[0m \u001b[0;34m=\u001b[0m \u001b[0msample_weight\u001b[0m\u001b[0;34m\u001b[0m\u001b[0;34m\u001b[0m\u001b[0m\n\u001b[0;32m--> 210\u001b[0;31m         \u001b[0;32mreturn\u001b[0m \u001b[0msuper\u001b[0m\u001b[0;34m(\u001b[0m\u001b[0mKerasClassifier\u001b[0m\u001b[0;34m,\u001b[0m \u001b[0mself\u001b[0m\u001b[0;34m)\u001b[0m\u001b[0;34m.\u001b[0m\u001b[0mfit\u001b[0m\u001b[0;34m(\u001b[0m\u001b[0mx\u001b[0m\u001b[0;34m,\u001b[0m \u001b[0my\u001b[0m\u001b[0;34m,\u001b[0m \u001b[0;34m**\u001b[0m\u001b[0mkwargs\u001b[0m\u001b[0;34m)\u001b[0m\u001b[0;34m\u001b[0m\u001b[0;34m\u001b[0m\u001b[0m\n\u001b[0m\u001b[1;32m    211\u001b[0m \u001b[0;34m\u001b[0m\u001b[0m\n\u001b[1;32m    212\u001b[0m     \u001b[0;32mdef\u001b[0m \u001b[0mpredict\u001b[0m\u001b[0;34m(\u001b[0m\u001b[0mself\u001b[0m\u001b[0;34m,\u001b[0m \u001b[0mx\u001b[0m\u001b[0;34m,\u001b[0m \u001b[0;34m**\u001b[0m\u001b[0mkwargs\u001b[0m\u001b[0;34m)\u001b[0m\u001b[0;34m:\u001b[0m\u001b[0;34m\u001b[0m\u001b[0;34m\u001b[0m\u001b[0m\n",
      "\u001b[0;32m~/anaconda3/envs/tensorflow/lib/python3.6/site-packages/keras/wrappers/scikit_learn.py\u001b[0m in \u001b[0;36mfit\u001b[0;34m(self, x, y, **kwargs)\u001b[0m\n\u001b[1;32m    150\u001b[0m         \u001b[0mfit_args\u001b[0m\u001b[0;34m.\u001b[0m\u001b[0mupdate\u001b[0m\u001b[0;34m(\u001b[0m\u001b[0mkwargs\u001b[0m\u001b[0;34m)\u001b[0m\u001b[0;34m\u001b[0m\u001b[0;34m\u001b[0m\u001b[0m\n\u001b[1;32m    151\u001b[0m \u001b[0;34m\u001b[0m\u001b[0m\n\u001b[0;32m--> 152\u001b[0;31m         \u001b[0mhistory\u001b[0m \u001b[0;34m=\u001b[0m \u001b[0mself\u001b[0m\u001b[0;34m.\u001b[0m\u001b[0mmodel\u001b[0m\u001b[0;34m.\u001b[0m\u001b[0mfit\u001b[0m\u001b[0;34m(\u001b[0m\u001b[0mx\u001b[0m\u001b[0;34m,\u001b[0m \u001b[0my\u001b[0m\u001b[0;34m,\u001b[0m \u001b[0;34m**\u001b[0m\u001b[0mfit_args\u001b[0m\u001b[0;34m)\u001b[0m\u001b[0;34m\u001b[0m\u001b[0;34m\u001b[0m\u001b[0m\n\u001b[0m\u001b[1;32m    153\u001b[0m \u001b[0;34m\u001b[0m\u001b[0m\n\u001b[1;32m    154\u001b[0m         \u001b[0;32mreturn\u001b[0m \u001b[0mhistory\u001b[0m\u001b[0;34m\u001b[0m\u001b[0;34m\u001b[0m\u001b[0m\n",
      "\u001b[0;32m~/anaconda3/envs/tensorflow/lib/python3.6/site-packages/keras/engine/training.py\u001b[0m in \u001b[0;36mfit\u001b[0;34m(self, x, y, batch_size, epochs, verbose, callbacks, validation_split, validation_data, shuffle, class_weight, sample_weight, initial_epoch, steps_per_epoch, validation_steps, **kwargs)\u001b[0m\n\u001b[1;32m   1037\u001b[0m                                         \u001b[0minitial_epoch\u001b[0m\u001b[0;34m=\u001b[0m\u001b[0minitial_epoch\u001b[0m\u001b[0;34m,\u001b[0m\u001b[0;34m\u001b[0m\u001b[0;34m\u001b[0m\u001b[0m\n\u001b[1;32m   1038\u001b[0m                                         \u001b[0msteps_per_epoch\u001b[0m\u001b[0;34m=\u001b[0m\u001b[0msteps_per_epoch\u001b[0m\u001b[0;34m,\u001b[0m\u001b[0;34m\u001b[0m\u001b[0;34m\u001b[0m\u001b[0m\n\u001b[0;32m-> 1039\u001b[0;31m                                         validation_steps=validation_steps)\n\u001b[0m\u001b[1;32m   1040\u001b[0m \u001b[0;34m\u001b[0m\u001b[0m\n\u001b[1;32m   1041\u001b[0m     def evaluate(self, x=None, y=None,\n",
      "\u001b[0;32m~/anaconda3/envs/tensorflow/lib/python3.6/site-packages/keras/engine/training_arrays.py\u001b[0m in \u001b[0;36mfit_loop\u001b[0;34m(model, f, ins, out_labels, batch_size, epochs, verbose, callbacks, val_f, val_ins, shuffle, callback_metrics, initial_epoch, steps_per_epoch, validation_steps)\u001b[0m\n\u001b[1;32m    197\u001b[0m                     \u001b[0mins_batch\u001b[0m\u001b[0;34m[\u001b[0m\u001b[0mi\u001b[0m\u001b[0;34m]\u001b[0m \u001b[0;34m=\u001b[0m \u001b[0mins_batch\u001b[0m\u001b[0;34m[\u001b[0m\u001b[0mi\u001b[0m\u001b[0;34m]\u001b[0m\u001b[0;34m.\u001b[0m\u001b[0mtoarray\u001b[0m\u001b[0;34m(\u001b[0m\u001b[0;34m)\u001b[0m\u001b[0;34m\u001b[0m\u001b[0;34m\u001b[0m\u001b[0m\n\u001b[1;32m    198\u001b[0m \u001b[0;34m\u001b[0m\u001b[0m\n\u001b[0;32m--> 199\u001b[0;31m                 \u001b[0mouts\u001b[0m \u001b[0;34m=\u001b[0m \u001b[0mf\u001b[0m\u001b[0;34m(\u001b[0m\u001b[0mins_batch\u001b[0m\u001b[0;34m)\u001b[0m\u001b[0;34m\u001b[0m\u001b[0;34m\u001b[0m\u001b[0m\n\u001b[0m\u001b[1;32m    200\u001b[0m                 \u001b[0mouts\u001b[0m \u001b[0;34m=\u001b[0m \u001b[0mto_list\u001b[0m\u001b[0;34m(\u001b[0m\u001b[0mouts\u001b[0m\u001b[0;34m)\u001b[0m\u001b[0;34m\u001b[0m\u001b[0;34m\u001b[0m\u001b[0m\n\u001b[1;32m    201\u001b[0m                 \u001b[0;32mfor\u001b[0m \u001b[0ml\u001b[0m\u001b[0;34m,\u001b[0m \u001b[0mo\u001b[0m \u001b[0;32min\u001b[0m \u001b[0mzip\u001b[0m\u001b[0;34m(\u001b[0m\u001b[0mout_labels\u001b[0m\u001b[0;34m,\u001b[0m \u001b[0mouts\u001b[0m\u001b[0;34m)\u001b[0m\u001b[0;34m:\u001b[0m\u001b[0;34m\u001b[0m\u001b[0;34m\u001b[0m\u001b[0m\n",
      "\u001b[0;32m~/anaconda3/envs/tensorflow/lib/python3.6/site-packages/keras/backend/tensorflow_backend.py\u001b[0m in \u001b[0;36m__call__\u001b[0;34m(self, inputs)\u001b[0m\n\u001b[1;32m   2713\u001b[0m                 \u001b[0;32mreturn\u001b[0m \u001b[0mself\u001b[0m\u001b[0;34m.\u001b[0m\u001b[0m_legacy_call\u001b[0m\u001b[0;34m(\u001b[0m\u001b[0minputs\u001b[0m\u001b[0;34m)\u001b[0m\u001b[0;34m\u001b[0m\u001b[0;34m\u001b[0m\u001b[0m\n\u001b[1;32m   2714\u001b[0m \u001b[0;34m\u001b[0m\u001b[0m\n\u001b[0;32m-> 2715\u001b[0;31m             \u001b[0;32mreturn\u001b[0m \u001b[0mself\u001b[0m\u001b[0;34m.\u001b[0m\u001b[0m_call\u001b[0m\u001b[0;34m(\u001b[0m\u001b[0minputs\u001b[0m\u001b[0;34m)\u001b[0m\u001b[0;34m\u001b[0m\u001b[0;34m\u001b[0m\u001b[0m\n\u001b[0m\u001b[1;32m   2716\u001b[0m         \u001b[0;32melse\u001b[0m\u001b[0;34m:\u001b[0m\u001b[0;34m\u001b[0m\u001b[0;34m\u001b[0m\u001b[0m\n\u001b[1;32m   2717\u001b[0m             \u001b[0;32mif\u001b[0m \u001b[0mpy_any\u001b[0m\u001b[0;34m(\u001b[0m\u001b[0mis_tensor\u001b[0m\u001b[0;34m(\u001b[0m\u001b[0mx\u001b[0m\u001b[0;34m)\u001b[0m \u001b[0;32mfor\u001b[0m \u001b[0mx\u001b[0m \u001b[0;32min\u001b[0m \u001b[0minputs\u001b[0m\u001b[0;34m)\u001b[0m\u001b[0;34m:\u001b[0m\u001b[0;34m\u001b[0m\u001b[0;34m\u001b[0m\u001b[0m\n",
      "\u001b[0;32m~/anaconda3/envs/tensorflow/lib/python3.6/site-packages/keras/backend/tensorflow_backend.py\u001b[0m in \u001b[0;36m_call\u001b[0;34m(self, inputs)\u001b[0m\n\u001b[1;32m   2673\u001b[0m             \u001b[0mfetched\u001b[0m \u001b[0;34m=\u001b[0m \u001b[0mself\u001b[0m\u001b[0;34m.\u001b[0m\u001b[0m_callable_fn\u001b[0m\u001b[0;34m(\u001b[0m\u001b[0;34m*\u001b[0m\u001b[0marray_vals\u001b[0m\u001b[0;34m,\u001b[0m \u001b[0mrun_metadata\u001b[0m\u001b[0;34m=\u001b[0m\u001b[0mself\u001b[0m\u001b[0;34m.\u001b[0m\u001b[0mrun_metadata\u001b[0m\u001b[0;34m)\u001b[0m\u001b[0;34m\u001b[0m\u001b[0;34m\u001b[0m\u001b[0m\n\u001b[1;32m   2674\u001b[0m         \u001b[0;32melse\u001b[0m\u001b[0;34m:\u001b[0m\u001b[0;34m\u001b[0m\u001b[0;34m\u001b[0m\u001b[0m\n\u001b[0;32m-> 2675\u001b[0;31m             \u001b[0mfetched\u001b[0m \u001b[0;34m=\u001b[0m \u001b[0mself\u001b[0m\u001b[0;34m.\u001b[0m\u001b[0m_callable_fn\u001b[0m\u001b[0;34m(\u001b[0m\u001b[0;34m*\u001b[0m\u001b[0marray_vals\u001b[0m\u001b[0;34m)\u001b[0m\u001b[0;34m\u001b[0m\u001b[0;34m\u001b[0m\u001b[0m\n\u001b[0m\u001b[1;32m   2676\u001b[0m         \u001b[0;32mreturn\u001b[0m \u001b[0mfetched\u001b[0m\u001b[0;34m[\u001b[0m\u001b[0;34m:\u001b[0m\u001b[0mlen\u001b[0m\u001b[0;34m(\u001b[0m\u001b[0mself\u001b[0m\u001b[0;34m.\u001b[0m\u001b[0moutputs\u001b[0m\u001b[0;34m)\u001b[0m\u001b[0;34m]\u001b[0m\u001b[0;34m\u001b[0m\u001b[0;34m\u001b[0m\u001b[0m\n\u001b[1;32m   2677\u001b[0m \u001b[0;34m\u001b[0m\u001b[0m\n",
      "\u001b[0;32m~/anaconda3/envs/tensorflow/lib/python3.6/site-packages/tensorflow/python/client/session.py\u001b[0m in \u001b[0;36m__call__\u001b[0;34m(self, *args, **kwargs)\u001b[0m\n\u001b[1;32m   1437\u001b[0m           ret = tf_session.TF_SessionRunCallable(\n\u001b[1;32m   1438\u001b[0m               \u001b[0mself\u001b[0m\u001b[0;34m.\u001b[0m\u001b[0m_session\u001b[0m\u001b[0;34m.\u001b[0m\u001b[0m_session\u001b[0m\u001b[0;34m,\u001b[0m \u001b[0mself\u001b[0m\u001b[0;34m.\u001b[0m\u001b[0m_handle\u001b[0m\u001b[0;34m,\u001b[0m \u001b[0margs\u001b[0m\u001b[0;34m,\u001b[0m \u001b[0mstatus\u001b[0m\u001b[0;34m,\u001b[0m\u001b[0;34m\u001b[0m\u001b[0;34m\u001b[0m\u001b[0m\n\u001b[0;32m-> 1439\u001b[0;31m               run_metadata_ptr)\n\u001b[0m\u001b[1;32m   1440\u001b[0m         \u001b[0;32mif\u001b[0m \u001b[0mrun_metadata\u001b[0m\u001b[0;34m:\u001b[0m\u001b[0;34m\u001b[0m\u001b[0;34m\u001b[0m\u001b[0m\n\u001b[1;32m   1441\u001b[0m           \u001b[0mproto_data\u001b[0m \u001b[0;34m=\u001b[0m \u001b[0mtf_session\u001b[0m\u001b[0;34m.\u001b[0m\u001b[0mTF_GetBuffer\u001b[0m\u001b[0;34m(\u001b[0m\u001b[0mrun_metadata_ptr\u001b[0m\u001b[0;34m)\u001b[0m\u001b[0;34m\u001b[0m\u001b[0;34m\u001b[0m\u001b[0m\n",
      "\u001b[0;31mKeyboardInterrupt\u001b[0m: "
     ]
    }
   ],
   "source": [
    "#Doing GridSearch to find the best parameters\n",
    "grid_search = grid_search.fit(training_set_shuffled,training_label)\n",
    "#I was not able to do grid search again due to lack of time"
    "best_parameters = grid_search.best_params_\n",
    "best_accuracy = grid_search.best_score_"
   ]
  },
  {
   "cell_type": "markdown",
   "metadata": {},
   "source": [
    "<font size=\"5\">Showing grid search result</font>"
   ]
  },
  {
   "cell_type": "code",
   "execution_count": 20,
   "metadata": {},
   "outputs": [
    {
     "name": "stdout",
     "output_type": "stream",
     "text": [
      "Best Parameters are : {'batch_size': 80, 'epochs': 30, 'optim': 'adam'}\n",
      "Best Accuracy is : 0.873125\n"
     ]
    }
   ],
   "source": [
    "#Printing the GridSearch result\n",
    "print(\"Best Parameters are : \"+str(best_parameters))\n",
    "print(\"Best Accuracy is : \"+str(best_accuracy))\n",
    "#Best parameter are : optimizer - adam ,batch - 80 ,epochs - 30\n",
    "#Best accuracy about 86%"
   ]
  },
  {
   "cell_type": "markdown",
   "metadata": {},
   "source": [
    "<font size=\"5\">Training the model on complete dataset</font>"
   ]
  },
  {
   "cell_type": "code",
   "execution_count": 26,
   "metadata": {},
   "outputs": [
    {
     "name": "stdout",
     "output_type": "stream",
     "text": [
      "Epoch 1/30\n",
      "80/80 [==============================] - 11s 141ms/step - loss: 1.1142 - acc: 0.5123\n",
      "Epoch 2/30\n",
      "80/80 [==============================] - 10s 123ms/step - loss: 0.8071 - acc: 0.6434\n",
      "Epoch 3/30\n",
      "80/80 [==============================] - 10s 123ms/step - loss: 0.7051 - acc: 0.6802\n",
      "Epoch 4/30\n",
      "80/80 [==============================] - 9s 110ms/step - loss: 0.6704 - acc: 0.7123\n",
      "Epoch 5/30\n",
      "80/80 [==============================] - 9s 111ms/step - loss: 0.6167 - acc: 0.7405\n",
      "Epoch 6/30\n",
      "80/80 [==============================] - 9s 115ms/step - loss: 0.5676 - acc: 0.7675\n",
      "Epoch 7/30\n",
      "80/80 [==============================] - 9s 110ms/step - loss: 0.5331 - acc: 0.7844\n",
      "Epoch 8/30\n",
      "80/80 [==============================] - 9s 114ms/step - loss: 0.5131 - acc: 0.7937\n",
      "Epoch 9/30\n",
      "80/80 [==============================] - 9s 117ms/step - loss: 0.4856 - acc: 0.8031\n",
      "Epoch 10/30\n",
      "80/80 [==============================] - 10s 129ms/step - loss: 0.4790 - acc: 0.7995\n",
      "Epoch 11/30\n",
      "80/80 [==============================] - 11s 134ms/step - loss: 0.4558 - acc: 0.8159\n",
      "Epoch 12/30\n",
      "80/80 [==============================] - 10s 130ms/step - loss: 0.4548 - acc: 0.8139\n",
      "Epoch 13/30\n",
      "80/80 [==============================] - 9s 118ms/step - loss: 0.4420 - acc: 0.8238\n",
      "Epoch 14/30\n",
      "80/80 [==============================] - 9s 110ms/step - loss: 0.4529 - acc: 0.8142\n",
      "Epoch 15/30\n",
      "80/80 [==============================] - 9s 115ms/step - loss: 0.4178 - acc: 0.8291\n",
      "Epoch 16/30\n",
      "80/80 [==============================] - 9s 110ms/step - loss: 0.4258 - acc: 0.8253\n",
      "Epoch 17/30\n",
      "80/80 [==============================] - 9s 111ms/step - loss: 0.4160 - acc: 0.8333\n",
      "Epoch 18/30\n",
      "80/80 [==============================] - 9s 111ms/step - loss: 0.3962 - acc: 0.8439\n",
      "Epoch 19/30\n",
      "80/80 [==============================] - 9s 110ms/step - loss: 0.4052 - acc: 0.8434\n",
      "Epoch 20/30\n",
      "80/80 [==============================] - 9s 111ms/step - loss: 0.3936 - acc: 0.8477\n",
      "Epoch 21/30\n",
      "80/80 [==============================] - 10s 120ms/step - loss: 0.3916 - acc: 0.8428\n",
      "Epoch 22/30\n",
      "80/80 [==============================] - 10s 127ms/step - loss: 0.3856 - acc: 0.8461\n",
      "Epoch 23/30\n",
      "80/80 [==============================] - 10s 127ms/step - loss: 0.3885 - acc: 0.8500\n",
      "Epoch 24/30\n",
      "80/80 [==============================] - 10s 125ms/step - loss: 0.3717 - acc: 0.8517\n",
      "Epoch 25/30\n",
      "80/80 [==============================] - 10s 124ms/step - loss: 0.3769 - acc: 0.8508\n",
      "Epoch 26/30\n",
      "80/80 [==============================] - 10s 120ms/step - loss: 0.3570 - acc: 0.8586\n",
      "Epoch 27/30\n",
      "80/80 [==============================] - 10s 126ms/step - loss: 0.3590 - acc: 0.8600\n",
      "Epoch 28/30\n",
      "80/80 [==============================] - 9s 118ms/step - loss: 0.3690 - acc: 0.8516\n",
      "Epoch 29/30\n",
      "80/80 [==============================] - 10s 121ms/step - loss: 0.3448 - acc: 0.8664\n",
      "Epoch 30/30\n",
      "80/80 [==============================] - 9s 111ms/step - loss: 0.3568 - acc: 0.8611\n"
     ]
    },
    {
     "data": {
      "text/plain": [
       "<keras.callbacks.History at 0x7fb978706588>"
      ]
     },
     "execution_count": 26,
     "metadata": {},
     "output_type": "execute_result"
    }
   ],
   "source": [
    "#Creating the model\n",
    "model = build_model()\n",
    "#Fitting the model\n",
    "model.fit_generator(datagen.flow(training_set_shuffled, training_label_shuffled, batch_size=80)\n",
    "                   , epochs=30, steps_per_epoch=80)"
   ]
  },
  {
   "cell_type": "markdown",
   "metadata": {},
   "source": [
    "<font size=\"6\">Calculating test set result</font>"
   ]
  },
  {
   "cell_type": "markdown",
   "metadata": {},
   "source": [
    "<font size=\"5\">Importing test dataset and storing it in image_list_test</font>"
   ]
  },
  {
   "cell_type": "code",
   "execution_count": 27,
   "metadata": {},
   "outputs": [],
   "source": [
    "#Importing the test dataset\n",
    "import pickle\n",
    "with open('test_image.pkl','rb') as f:\n",
    "    image_list_test = pickle.load(f)\n",
    "#Storing the imported data in variable image_list\n",
    "f.close()"
   ]
  },
  {
   "cell_type": "markdown",
   "metadata": {},
   "source": [
    "<font size=\"5\">Creating a function preprocessing to reshape and standardize the test images</font>"
   ]
  },
  {
   "cell_type": "code",
   "execution_count": 28,
   "metadata": {},
   "outputs": [],
   "source": [
    "def preprocessing(image_list):\n",
    "    '''\n",
    "        This function takes input the list of test dataset and preprocess it for the model\n",
    "    '''\n",
    "    #Reshaping each image\n",
    "    test_image = []\n",
    "    for item in image_list:\n",
    "        test_image.append(np.reshape(item,(28,28,1)))\n",
    "    #Standardizing the images\n",
    "    test_image = np.array(test_image)\n",
    "    test_image = test_image.astype('float32') /255\n",
    "    return test_image"
   ]
  },
  {
   "cell_type": "markdown",
   "metadata": {},
   "source": [
    "<font size=\"5\">Calling the preprocessing function and printing the shape</font>"
   ]
  },
  {
   "cell_type": "code",
   "execution_count": 29,
   "metadata": {},
   "outputs": [
    {
     "name": "stdout",
     "output_type": "stream",
     "text": [
      "Shape of test data is : (2000, 28, 28, 1)\n"
     ]
    }
   ],
   "source": [
    "#Preprocessing and visualising Test set\n",
    "X_test = preprocessing(image_list_test)\n",
    "print(\"Shape of test data is : \" +str(X_test.shape))\n",
    "#There are 2000 images in the test set"
   ]
  },
  {
   "cell_type": "markdown",
   "metadata": {},
   "source": [
    "<font size=\"5\">Predicting the result and storing it in y_test</font>"
   ]
  },
  {
   "cell_type": "code",
   "execution_count": 30,
   "metadata": {},
   "outputs": [],
   "source": [
    "#Predicting the result of test set\n",
    "y_test = model.predict(X_test)"
   ]
  },
  {
   "cell_type": "markdown",
   "metadata": {},
   "source": [
    "<font size=\"5\">Result is in categorical form ,so, converting it to non-categorical and changing label of 1 to label 6(as we changed it earlier)</font>"
   ]
  },
  {
   "cell_type": "code",
   "execution_count": 31,
   "metadata": {},
   "outputs": [],
   "source": [
    "result = []\n",
    "for item in y_test:\n",
    "    if (np.argmax(item) == 1):\n",
    "        result.append(6)\n",
    "    else:\n",
    "        result.append(np.argmax(item))\n",
    "result = np.array(result)"
   ]
  },
  {
   "cell_type": "markdown",
   "metadata": {},
   "source": [
    "<font size=\"5\">Converting the result to the required format</font>"
   ]
  },
  {
   "cell_type": "code",
   "execution_count": 32,
   "metadata": {},
   "outputs": [],
   "source": [
    "#Converting to the result to the required format\n",
    "original_result = pd.DataFrame({'image_index':np.arange(2000),'class':result})"
   ]
  },
  {
   "cell_type": "markdown",
   "metadata": {},
   "source": [
    "<font size=\"5\">Saving the result to my pc as atif_belal.csv</font>"
   ]
  },
  {
   "cell_type": "code",
   "execution_count": 33,
   "metadata": {},
   "outputs": [],
   "source": [
    "original_result.to_csv('atif_belal.csv')"
   ]
  }
 ],
 "metadata": {
  "kernelspec": {
   "display_name": "Python 3",
   "language": "python",
   "name": "python3"
  },
  "language_info": {
   "codemirror_mode": {
    "name": "ipython",
    "version": 3
   },
   "file_extension": ".py",
   "mimetype": "text/x-python",
   "name": "python",
   "nbconvert_exporter": "python",
   "pygments_lexer": "ipython3",
   "version": "3.6.8"
  }
 },
 "nbformat": 4,
 "nbformat_minor": 2
}
